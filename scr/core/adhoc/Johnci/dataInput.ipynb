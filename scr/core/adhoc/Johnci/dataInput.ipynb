{
 "cells": [
  {
   "cell_type": "code",
   "execution_count": 1,
   "metadata": {
    "scrolled": true
   },
   "outputs": [],
   "source": [
    "import pandas as pd"
   ]
  },
  {
   "cell_type": "code",
   "execution_count": 31,
   "metadata": {},
   "outputs": [],
   "source": [
    "pdCampCon = pd.read_csv(\"/Users/shonk/Documents/JupiterNotebook/BelcorpData/campana_consultora.csv\",index_col=0)\n",
    "pddtt_fvta = pd.read_csv(\"/Users/shonk/Documents/JupiterNotebook/BelcorpData/dtt_fvta_cl.csv\",index_col=0)\n",
    "pdmasterCons = pd.read_csv(\"/Users/shonk/Documents/JupiterNotebook/BelcorpData/maestro_consultora.csv\",index_col=0)\n",
    "pdmasterProd = pd.read_csv(\"/Users/shonk/Documents/JupiterNotebook/BelcorpData/maestro_producto.csv\",index_col=0)\n",
    "pdpredisub = pd.read_csv(\"/Users/shonk/Documents/JupiterNotebook/BelcorpData/predict_submission.csv\",index_col=0)"
   ]
  },
  {
   "cell_type": "code",
   "execution_count": 33,
   "metadata": {},
   "outputs": [
    {
     "name": "stdout",
     "output_type": "stream",
     "text": [
      "(1501988, 21)\n"
     ]
    },
    {
     "data": {
      "text/plain": [
       "['campana',\n",
       " 'IdConsultora',\n",
       " 'Flagpasopedido',\n",
       " 'flagactiva',\n",
       " 'flagpasopedidocuidadopersonal',\n",
       " 'flagpasopedidomaquillaje',\n",
       " 'flagpasopedidotratamientocorporal',\n",
       " 'flagpasopedidotratamientofacial',\n",
       " 'flagpedidoanulado',\n",
       " 'flagpasopedidofragancias',\n",
       " 'codigofactura',\n",
       " 'codigocanalorigen',\n",
       " 'evaluacion_nuevas',\n",
       " 'segmentacion',\n",
       " 'flagpasopedidoweb',\n",
       " 'cantidadlogueos',\n",
       " 'flagdispositivo',\n",
       " 'flagdigital',\n",
       " 'flagofertadigital',\n",
       " 'flagsuscripcion',\n",
       " 'geografia']"
      ]
     },
     "execution_count": 33,
     "metadata": {},
     "output_type": "execute_result"
    }
   ],
   "source": [
    "#Explorando Campaña Consultora\n",
    "print(pdCampCon.shape)\n",
    "pdCampCon.columns.tolist()"
   ]
  },
  {
   "cell_type": "code",
   "execution_count": 34,
   "metadata": {},
   "outputs": [
    {
     "data": {
      "text/html": [
       "<div>\n",
       "<style scoped>\n",
       "    .dataframe tbody tr th:only-of-type {\n",
       "        vertical-align: middle;\n",
       "    }\n",
       "\n",
       "    .dataframe tbody tr th {\n",
       "        vertical-align: top;\n",
       "    }\n",
       "\n",
       "    .dataframe thead tr th {\n",
       "        text-align: left;\n",
       "    }\n",
       "</style>\n",
       "<table border=\"1\" class=\"dataframe\">\n",
       "  <thead>\n",
       "    <tr>\n",
       "      <th></th>\n",
       "      <th>campana</th>\n",
       "      <th colspan=\"2\" halign=\"left\">Flagpasopedido</th>\n",
       "    </tr>\n",
       "    <tr>\n",
       "      <th></th>\n",
       "      <th></th>\n",
       "      <th>NObs</th>\n",
       "      <th>avg_Flagpasopedido</th>\n",
       "    </tr>\n",
       "  </thead>\n",
       "  <tbody>\n",
       "    <tr>\n",
       "      <th>0</th>\n",
       "      <td>201807</td>\n",
       "      <td>70710</td>\n",
       "      <td>0.800453</td>\n",
       "    </tr>\n",
       "    <tr>\n",
       "      <th>1</th>\n",
       "      <td>201808</td>\n",
       "      <td>73626</td>\n",
       "      <td>0.752818</td>\n",
       "    </tr>\n",
       "    <tr>\n",
       "      <th>2</th>\n",
       "      <td>201809</td>\n",
       "      <td>76670</td>\n",
       "      <td>0.743955</td>\n",
       "    </tr>\n",
       "    <tr>\n",
       "      <th>3</th>\n",
       "      <td>201810</td>\n",
       "      <td>79890</td>\n",
       "      <td>0.676806</td>\n",
       "    </tr>\n",
       "    <tr>\n",
       "      <th>4</th>\n",
       "      <td>201811</td>\n",
       "      <td>83029</td>\n",
       "      <td>0.668357</td>\n",
       "    </tr>\n",
       "    <tr>\n",
       "      <th>5</th>\n",
       "      <td>201812</td>\n",
       "      <td>86139</td>\n",
       "      <td>0.668222</td>\n",
       "    </tr>\n",
       "    <tr>\n",
       "      <th>6</th>\n",
       "      <td>201813</td>\n",
       "      <td>86429</td>\n",
       "      <td>0.644749</td>\n",
       "    </tr>\n",
       "    <tr>\n",
       "      <th>7</th>\n",
       "      <td>201814</td>\n",
       "      <td>86002</td>\n",
       "      <td>0.652636</td>\n",
       "    </tr>\n",
       "    <tr>\n",
       "      <th>8</th>\n",
       "      <td>201815</td>\n",
       "      <td>86693</td>\n",
       "      <td>0.685788</td>\n",
       "    </tr>\n",
       "    <tr>\n",
       "      <th>9</th>\n",
       "      <td>201816</td>\n",
       "      <td>86206</td>\n",
       "      <td>0.655430</td>\n",
       "    </tr>\n",
       "    <tr>\n",
       "      <th>10</th>\n",
       "      <td>201817</td>\n",
       "      <td>86592</td>\n",
       "      <td>0.688805</td>\n",
       "    </tr>\n",
       "    <tr>\n",
       "      <th>11</th>\n",
       "      <td>201818</td>\n",
       "      <td>87235</td>\n",
       "      <td>0.676701</td>\n",
       "    </tr>\n",
       "    <tr>\n",
       "      <th>12</th>\n",
       "      <td>201901</td>\n",
       "      <td>86137</td>\n",
       "      <td>0.644589</td>\n",
       "    </tr>\n",
       "    <tr>\n",
       "      <th>13</th>\n",
       "      <td>201902</td>\n",
       "      <td>85083</td>\n",
       "      <td>0.628351</td>\n",
       "    </tr>\n",
       "    <tr>\n",
       "      <th>14</th>\n",
       "      <td>201903</td>\n",
       "      <td>85277</td>\n",
       "      <td>0.650187</td>\n",
       "    </tr>\n",
       "    <tr>\n",
       "      <th>15</th>\n",
       "      <td>201904</td>\n",
       "      <td>84548</td>\n",
       "      <td>0.679661</td>\n",
       "    </tr>\n",
       "    <tr>\n",
       "      <th>16</th>\n",
       "      <td>201905</td>\n",
       "      <td>85800</td>\n",
       "      <td>0.703205</td>\n",
       "    </tr>\n",
       "    <tr>\n",
       "      <th>17</th>\n",
       "      <td>201906</td>\n",
       "      <td>85922</td>\n",
       "      <td>0.741719</td>\n",
       "    </tr>\n",
       "  </tbody>\n",
       "</table>\n",
       "</div>"
      ],
      "text/plain": [
       "   campana Flagpasopedido                   \n",
       "                     NObs avg_Flagpasopedido\n",
       "0   201807          70710           0.800453\n",
       "1   201808          73626           0.752818\n",
       "2   201809          76670           0.743955\n",
       "3   201810          79890           0.676806\n",
       "4   201811          83029           0.668357\n",
       "5   201812          86139           0.668222\n",
       "6   201813          86429           0.644749\n",
       "7   201814          86002           0.652636\n",
       "8   201815          86693           0.685788\n",
       "9   201816          86206           0.655430\n",
       "10  201817          86592           0.688805\n",
       "11  201818          87235           0.676701\n",
       "12  201901          86137           0.644589\n",
       "13  201902          85083           0.628351\n",
       "14  201903          85277           0.650187\n",
       "15  201904          84548           0.679661\n",
       "16  201905          85800           0.703205\n",
       "17  201906          85922           0.741719"
      ]
     },
     "execution_count": 34,
     "metadata": {},
     "output_type": "execute_result"
    }
   ],
   "source": [
    "aggregations = {\n",
    "    'Flagpasopedido': { \n",
    "        'NObs': 'count',  \n",
    "        'avg_Flagpasopedido': 'mean'}}\n",
    "\n",
    "pdCampCon.groupby('campana', as_index=False).agg(aggregations)"
   ]
  },
  {
   "cell_type": "code",
   "execution_count": 28,
   "metadata": {},
   "outputs": [
    {
     "data": {
      "text/html": [
       "<div>\n",
       "<style scoped>\n",
       "    .dataframe tbody tr th:only-of-type {\n",
       "        vertical-align: middle;\n",
       "    }\n",
       "\n",
       "    .dataframe tbody tr th {\n",
       "        vertical-align: top;\n",
       "    }\n",
       "\n",
       "    .dataframe thead tr th {\n",
       "        text-align: left;\n",
       "    }\n",
       "</style>\n",
       "<table border=\"1\" class=\"dataframe\">\n",
       "  <thead>\n",
       "    <tr>\n",
       "      <th></th>\n",
       "      <th>geografia</th>\n",
       "      <th colspan=\"2\" halign=\"left\">Flagpasopedido</th>\n",
       "    </tr>\n",
       "    <tr>\n",
       "      <th></th>\n",
       "      <th></th>\n",
       "      <th>NObs</th>\n",
       "      <th>avg_Flagpasopedido</th>\n",
       "    </tr>\n",
       "  </thead>\n",
       "  <tbody>\n",
       "    <tr>\n",
       "      <th>0</th>\n",
       "      <td>00 ADMINISTRATIVO</td>\n",
       "      <td>1200</td>\n",
       "      <td>0.470833</td>\n",
       "    </tr>\n",
       "    <tr>\n",
       "      <th>1</th>\n",
       "      <td>11 NORTE GRANDE</td>\n",
       "      <td>235447</td>\n",
       "      <td>0.675668</td>\n",
       "    </tr>\n",
       "    <tr>\n",
       "      <th>2</th>\n",
       "      <td>12 SANTIAGO - NORTE CHICO</td>\n",
       "      <td>217474</td>\n",
       "      <td>0.677221</td>\n",
       "    </tr>\n",
       "    <tr>\n",
       "      <th>3</th>\n",
       "      <td>13 STGO. / VI?A DEL MAR / VA</td>\n",
       "      <td>196761</td>\n",
       "      <td>0.687789</td>\n",
       "    </tr>\n",
       "    <tr>\n",
       "      <th>4</th>\n",
       "      <td>14 SANTIAGO / SUR CHICO</td>\n",
       "      <td>226940</td>\n",
       "      <td>0.691919</td>\n",
       "    </tr>\n",
       "    <tr>\n",
       "      <th>5</th>\n",
       "      <td>15 SUR GRANDE</td>\n",
       "      <td>233818</td>\n",
       "      <td>0.692235</td>\n",
       "    </tr>\n",
       "    <tr>\n",
       "      <th>6</th>\n",
       "      <td>16 SUR AUSTRAL</td>\n",
       "      <td>195651</td>\n",
       "      <td>0.688169</td>\n",
       "    </tr>\n",
       "    <tr>\n",
       "      <th>7</th>\n",
       "      <td>17 SANTIAGO PONIENTE</td>\n",
       "      <td>194697</td>\n",
       "      <td>0.682368</td>\n",
       "    </tr>\n",
       "  </tbody>\n",
       "</table>\n",
       "</div>"
      ],
      "text/plain": [
       "                      geografia Flagpasopedido                   \n",
       "                                          NObs avg_Flagpasopedido\n",
       "0             00 ADMINISTRATIVO           1200           0.470833\n",
       "1               11 NORTE GRANDE         235447           0.675668\n",
       "2     12 SANTIAGO - NORTE CHICO         217474           0.677221\n",
       "3  13 STGO. / VI?A DEL MAR / VA         196761           0.687789\n",
       "4       14 SANTIAGO / SUR CHICO         226940           0.691919\n",
       "5                 15 SUR GRANDE         233818           0.692235\n",
       "6                16 SUR AUSTRAL         195651           0.688169\n",
       "7          17 SANTIAGO PONIENTE         194697           0.682368"
      ]
     },
     "execution_count": 28,
     "metadata": {},
     "output_type": "execute_result"
    }
   ],
   "source": [
    "aggregations = {\n",
    "    'Flagpasopedido': { \n",
    "        'NObs': 'count',  \n",
    "        'avg_Flagpasopedido': 'mean'}}\n",
    "\n",
    "pdCampCon.groupby('geografia', as_index=False).agg(aggregations)"
   ]
  },
  {
   "cell_type": "code",
   "execution_count": 27,
   "metadata": {},
   "outputs": [
    {
     "data": {
      "text/html": [
       "<div>\n",
       "<style scoped>\n",
       "    .dataframe tbody tr th:only-of-type {\n",
       "        vertical-align: middle;\n",
       "    }\n",
       "\n",
       "    .dataframe tbody tr th {\n",
       "        vertical-align: top;\n",
       "    }\n",
       "\n",
       "    .dataframe thead tr th {\n",
       "        text-align: left;\n",
       "    }\n",
       "</style>\n",
       "<table border=\"1\" class=\"dataframe\">\n",
       "  <thead>\n",
       "    <tr>\n",
       "      <th></th>\n",
       "      <th>segmentacion</th>\n",
       "      <th colspan=\"2\" halign=\"left\">Flagpasopedido</th>\n",
       "    </tr>\n",
       "    <tr>\n",
       "      <th></th>\n",
       "      <th></th>\n",
       "      <th>NObs</th>\n",
       "      <th>avg_Flagpasopedido</th>\n",
       "    </tr>\n",
       "  </thead>\n",
       "  <tbody>\n",
       "    <tr>\n",
       "      <th>0</th>\n",
       "      <td>Nivel1</td>\n",
       "      <td>4</td>\n",
       "      <td>0.000000</td>\n",
       "    </tr>\n",
       "    <tr>\n",
       "      <th>1</th>\n",
       "      <td>Nivel2</td>\n",
       "      <td>446583</td>\n",
       "      <td>0.372762</td>\n",
       "    </tr>\n",
       "    <tr>\n",
       "      <th>2</th>\n",
       "      <td>Nivel3</td>\n",
       "      <td>14952</td>\n",
       "      <td>0.968967</td>\n",
       "    </tr>\n",
       "    <tr>\n",
       "      <th>3</th>\n",
       "      <td>Nivel4</td>\n",
       "      <td>222009</td>\n",
       "      <td>0.931061</td>\n",
       "    </tr>\n",
       "    <tr>\n",
       "      <th>4</th>\n",
       "      <td>Nivel5</td>\n",
       "      <td>495599</td>\n",
       "      <td>0.851069</td>\n",
       "    </tr>\n",
       "    <tr>\n",
       "      <th>5</th>\n",
       "      <td>Nivel7</td>\n",
       "      <td>1049</td>\n",
       "      <td>0.989514</td>\n",
       "    </tr>\n",
       "    <tr>\n",
       "      <th>6</th>\n",
       "      <td>Nuevas</td>\n",
       "      <td>317321</td>\n",
       "      <td>0.673640</td>\n",
       "    </tr>\n",
       "    <tr>\n",
       "      <th>7</th>\n",
       "      <td>Tops</td>\n",
       "      <td>4471</td>\n",
       "      <td>0.980989</td>\n",
       "    </tr>\n",
       "  </tbody>\n",
       "</table>\n",
       "</div>"
      ],
      "text/plain": [
       "  segmentacion Flagpasopedido                   \n",
       "                         NObs avg_Flagpasopedido\n",
       "0       Nivel1              4           0.000000\n",
       "1       Nivel2         446583           0.372762\n",
       "2       Nivel3          14952           0.968967\n",
       "3       Nivel4         222009           0.931061\n",
       "4       Nivel5         495599           0.851069\n",
       "5       Nivel7           1049           0.989514\n",
       "6       Nuevas         317321           0.673640\n",
       "7         Tops           4471           0.980989"
      ]
     },
     "execution_count": 27,
     "metadata": {},
     "output_type": "execute_result"
    }
   ],
   "source": [
    "aggregations = {\n",
    "    'Flagpasopedido': { \n",
    "        'NObs': 'count',  \n",
    "        'avg_Flagpasopedido': 'mean'}}\n",
    "\n",
    "pdCampCon.groupby('segmentacion', as_index=False).agg(aggregations)\n"
   ]
  },
  {
   "cell_type": "code",
   "execution_count": 35,
   "metadata": {},
   "outputs": [
    {
     "name": "stdout",
     "output_type": "stream",
     "text": [
      "(3190, 9)\n"
     ]
    },
    {
     "data": {
      "text/plain": [
       "['idproducto',\n",
       " 'codigounidadnegocio',\n",
       " 'unidadnegocio',\n",
       " 'codigomarca',\n",
       " 'marca',\n",
       " 'codigocategoria',\n",
       " 'categoria',\n",
       " 'codigotipo',\n",
       " 'tipo']"
      ]
     },
     "execution_count": 35,
     "metadata": {},
     "output_type": "execute_result"
    }
   ],
   "source": [
    "#Explorando Maestra Producto\n",
    "print(pdmasterProd.shape)\n",
    "pdmasterProd.columns.tolist()"
   ]
  },
  {
   "cell_type": "code",
   "execution_count": 36,
   "metadata": {},
   "outputs": [
    {
     "name": "stdout",
     "output_type": "stream",
     "text": [
      "(123740, 10)\n"
     ]
    },
    {
     "data": {
      "text/plain": [
       "['campanaingreso',\n",
       " 'campanaultimopedido',\n",
       " 'IdConsultora',\n",
       " 'estadocivil',\n",
       " 'flagsupervisor',\n",
       " 'campanaprimerpedido',\n",
       " 'flagconsultoradigital',\n",
       " 'flagcorreovalidad',\n",
       " 'edad',\n",
       " 'flagcelularvalidado']"
      ]
     },
     "execution_count": 36,
     "metadata": {},
     "output_type": "execute_result"
    }
   ],
   "source": [
    "#Explorando Maestra Consultora\n",
    "print(pdmasterCons.shape)\n",
    "pdmasterCons.columns.tolist()"
   ]
  },
  {
   "cell_type": "code",
   "execution_count": 7,
   "metadata": {},
   "outputs": [
    {
     "name": "stdout",
     "output_type": "stream",
     "text": [
      "(15141943, 21)\n",
      "(123740, 11)\n",
      "(3190, 10)\n",
      "(120895, 2)\n",
      "(1501988, 22)\n"
     ]
    }
   ],
   "source": [
    "print(pddtt_fvta.shape)\n",
    "print(pdmasterCons.shape)\n",
    "print(pdmasterProd.shape)\n",
    "print(pdpredisub.shape)\n",
    "print(pdCampCon.shape)"
   ]
  },
  {
   "cell_type": "code",
   "execution_count": 5,
   "metadata": {},
   "outputs": [
    {
     "data": {
      "text/plain": [
       "['Unnamed: 0',\n",
       " 'idproducto',\n",
       " 'codigounidadnegocio',\n",
       " 'unidadnegocio',\n",
       " 'codigomarca',\n",
       " 'marca',\n",
       " 'codigocategoria',\n",
       " 'categoria',\n",
       " 'codigotipo',\n",
       " 'tipo']"
      ]
     },
     "execution_count": 5,
     "metadata": {},
     "output_type": "execute_result"
    }
   ],
   "source": [
    "pddtt_fvta.columns.tolist()\n",
    "pdmasterCons.columns.tolist()\n",
    "pdmasterProd.columns.tolist()\n",
    "pdpredisub.columns.tolist()\n",
    "pdCampCon.columns.tolist()"
   ]
  },
  {
   "cell_type": "code",
   "execution_count": null,
   "metadata": {},
   "outputs": [],
   "source": [
    "pd.crosstab(pdCampCon.Flagpasopedido,pdCampCon.flagactiva)"
   ]
  },
  {
   "cell_type": "code",
   "execution_count": null,
   "metadata": {},
   "outputs": [],
   "source": [
    "pddtt_fvta.head()"
   ]
  }
 ],
 "metadata": {
  "kernelspec": {
   "display_name": "Python 3",
   "language": "python",
   "name": "python3"
  },
  "language_info": {
   "codemirror_mode": {
    "name": "ipython",
    "version": 3
   },
   "file_extension": ".py",
   "mimetype": "text/x-python",
   "name": "python",
   "nbconvert_exporter": "python",
   "pygments_lexer": "ipython3",
   "version": "3.7.3"
  }
 },
 "nbformat": 4,
 "nbformat_minor": 2
}
